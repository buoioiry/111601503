{
 "cells": [
  {
   "cell_type": "code",
   "execution_count": 2,
   "metadata": {},
   "outputs": [
    {
     "name": "stdout",
     "output_type": "stream",
     "text": [
      "<class 'pandas.core.frame.DataFrame'>\n",
      "RangeIndex: 4277 entries, 0 to 4276\n",
      "Data columns (total 9 columns):\n",
      " #   Column                     Non-Null Count  Dtype  \n",
      "---  ------                     --------------  -----  \n",
      " 0   Age                        4277 non-null   float64\n",
      " 1   HomePlanet_Earth           4277 non-null   int32  \n",
      " 2   HomePlanet_Europa          4277 non-null   int32  \n",
      " 3   HomePlanet_Mars            4277 non-null   int32  \n",
      " 4   Destination_55 Cancri e    4277 non-null   int32  \n",
      " 5   Destination_PSO J318.5-22  4277 non-null   int32  \n",
      " 6   Destination_TRAPPIST-1e    4277 non-null   int32  \n",
      " 7   VIP_False                  4277 non-null   int32  \n",
      " 8   VIP_True                   4277 non-null   int32  \n",
      "dtypes: float64(1), int32(8)\n",
      "memory usage: 167.2 KB\n"
     ]
    }
   ],
   "source": [
    "#model export模型匯出變黑盒子\n",
    "import joblib\n",
    "model_pretained = joblib.load('Spaceship Titanic-LR-20231115.pkl')\n",
    "import pandas as pd\n",
    "#forsubmission\n",
    "df_test=pd.read_csv(\"test.csv\")\n",
    "#拉pas出來存\n",
    "df_passengerId = df_test['PassengerId']\n",
    "\n",
    "# 資料處理照spaceship titanic\n",
    "df_test.drop(['Name','Spa'],axis=1,inplace=True)\n",
    "\n",
    "df_test['Age'].fillna(df_test['Age'].value_counts().idxmax(),inplace=True)\n",
    "df_test['VIP'].fillna(df_test['VIP'].value_counts().idxmax(),inplace=True)\n",
    "df_test['Destination'].fillna(df_test['Destination'].value_counts().idxmax(),inplace=True)\n",
    "df_test['HomePlanet'].fillna(df_test['HomePlanet'].value_counts().idxmax(),inplace=True)\n",
    "df_test = pd.get_dummies(data=df_test, dtype = int, columns= ['HomePlanet','Destination','VIP'])\n",
    "df_test.drop(['PassengerId','CryoSleep','Cabin','RoomService','FoodCourt','ShoppingMall','VRDeck'], axis=1, inplace=True)\n",
    "df_test.isnull().sum()\n",
    "df_test.info()\n",
    "predictions2 = model_pretained.predict(df_test)\n",
    "\n",
    "forSubmissionDF = pd.DataFrame(columns=['PassengerId','Transported'])\n",
    "forSubmissionDF['PassengerId'] = df_passengerId\n",
    "forSubmissionDF['Transported'] = predictions2\n",
    "\n",
    "forSubmissionDF.to_csv('Spaceship Titanic_for_submission_20231115.csv', index=False)"
   ]
  },
  {
   "cell_type": "code",
   "execution_count": null,
   "metadata": {},
   "outputs": [],
   "source": []
  }
 ],
 "metadata": {
  "kernelspec": {
   "display_name": ".ml1121-env",
   "language": "python",
   "name": "python3"
  },
  "language_info": {
   "codemirror_mode": {
    "name": "ipython",
    "version": 3
   },
   "file_extension": ".py",
   "mimetype": "text/x-python",
   "name": "python",
   "nbconvert_exporter": "python",
   "pygments_lexer": "ipython3",
   "version": "3.8.8"
  }
 },
 "nbformat": 4,
 "nbformat_minor": 2
}
