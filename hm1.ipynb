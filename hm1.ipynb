{
 "cells": [
  {
   "cell_type": "code",
   "execution_count": 54,
   "metadata": {},
   "outputs": [],
   "source": [
    "#import modules引入模組\n",
    "import pandas as pd\n",
    "import numpy as np\n",
    "import matplotlib.pyplot as plt\n",
    "import seaborn as sns\n",
    "\n",
    "#讀資料\n",
    "#import dataset\n",
    "#read_csv：local or internet url OK\n",
    "df = pd.read_csv(\"https://raw.githubusercontent.com/ryanchung403/dataset/main/Housing_Dataset_Sample.csv\")\n",
    "\n",
    "df.head(n=6)\n",
    "df.describe().T\n",
    "\n",
    "\n",
    "\n",
    "X = df.iloc[:,:5]\n",
    "y = df['Price']\n",
    "from sklearn.model_selection import train_test_split\n",
    "\n",
    "X_train, X_test, y_train, y_test = train_test_split(X, y, test_size=0.38, random_state=45)\n",
    "\n",
    "from sklearn.linear_model import LinearRegression\n",
    "reg = LinearRegression()\n",
    "reg.fit(X_train,y_train)\n",
    "prediction =reg.predict(X_test)\n",
    "\n",
    "\n",
    "\n",
    "\n"
   ]
  },
  {
   "cell_type": "code",
   "execution_count": null,
   "metadata": {},
   "outputs": [],
   "source": [
    "sns.distplot(df['Price'])\n",
    "sns.displot(df['Price'])\n",
    "sns.jointplot(x=df['Avg. Area Income'],y=df['Price'])\n",
    "sns.pairplot(df)"
   ]
  },
  {
   "cell_type": "code",
   "execution_count": 55,
   "metadata": {},
   "outputs": [
    {
     "data": {
      "text/plain": [
       "0.9222818906182605"
      ]
     },
     "execution_count": 55,
     "metadata": {},
     "output_type": "execute_result"
    }
   ],
   "source": [
    "\n",
    "from sklearn.metrics import r2_score\n",
    "r2_score(y_test, prediction)"
   ]
  },
  {
   "cell_type": "code",
   "execution_count": null,
   "metadata": {},
   "outputs": [],
   "source": [
    "plt.scatter(y_test, prediction, color='green', alpha=0.3)"
   ]
  },
  {
   "cell_type": "markdown",
   "metadata": {},
   "source": [
    "測試結果：\n",
    "test_size=0.1, random_state=48 ,0.9156535\n",
    "\n",
    "test_size=0.3, random_state=46 ,0.9216613392669022\n",
    "\n",
    "test_size=0.2, random_state=64 ,0.9162279902509566\n",
    "\n",
    "test_size=0.3, random_state=64 ,0.9154468136730208\n",
    "\n",
    "test_size=0.4, random_state=64 ,0.9177585913164295\n",
    "\n",
    "test_size=0.5, random_state=44 ,0.9186657748247419\n",
    "\n",
    "test_size=0.5, random_state=54 ,0.9198740696104669\n",
    "\n",
    "test_size=0.5, random_state=64 ,0.915323879907813\n",
    "\n",
    "test_size=0.7, random_state=40 ,0.9179534902072216\n",
    "\n",
    "test_size=0.4, random_state=45 ,0.9217813719018431\n",
    "\n",
    "test_size=0.5, random_state=43 ,0.9205983001061324\n",
    "\n",
    "test_size=0.45, random_state=44 ,0.9178003563563922\n",
    "\n",
    "test_size=0.01, random_state=44 ,0.9027641399956966\n",
    "\n",
    "test_size=0.9, random_state=44 ,0.9182455890754818\n",
    "\n",
    "test_size=0.9, random_state=60 ,0.9167613306547876\n",
    "\n",
    "test_size=0.9, random_state=5 ,0.9169041203891759\n",
    "\n",
    "test_size=0.9, random_state=99 ,0.9153325253185588\n",
    "\n",
    "test_size=0.35, random_state=45 ,0.9220341809599634\n",
    "\n",
    "test_size=0.36, random_state=45 ,0.922356461559385\n",
    "\n",
    "test_size=0.38, random_state=45 ,0.9222818906182605\n",
    "\n",
    "目前測試結果最高為0.9222818906\n",
    "推估可得最大值之test_size為0.36,random_state為45之組合\n",
    "testsize為最靠近1之大值和最靠近0之小值並無得到較大結果趴數"
   ]
  },
  {
   "cell_type": "code",
   "execution_count": null,
   "metadata": {},
   "outputs": [],
   "source": []
  },
  {
   "cell_type": "markdown",
   "metadata": {},
   "source": []
  }
 ],
 "metadata": {
  "kernelspec": {
   "display_name": ".ml1121-env",
   "language": "python",
   "name": "python3"
  },
  "language_info": {
   "codemirror_mode": {
    "name": "ipython",
    "version": 3
   },
   "file_extension": ".py",
   "mimetype": "text/x-python",
   "name": "python",
   "nbconvert_exporter": "python",
   "pygments_lexer": "ipython3",
   "version": "3.8.8"
  }
 },
 "nbformat": 4,
 "nbformat_minor": 2
}
